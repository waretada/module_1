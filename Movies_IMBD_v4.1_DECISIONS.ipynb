{
 "cells": [
  {
   "cell_type": "code",
   "execution_count": 18,
   "metadata": {
    "_cell_guid": "b1076dfc-b9ad-4769-8c92-a6c4dae69d19",
    "_uuid": "8f2839f25d086af736a60e9eeb907d3b93b6e0e5",
    "colab": {},
    "colab_type": "code",
    "id": "U2D2gTdJVp90"
   },
   "outputs": [],
   "source": [
    "import numpy as np\n",
    "import pandas as pd\n",
    "import seaborn as sns\n",
    "import matplotlib.pyplot as plt\n",
    "from collections import Counter\n",
    "from itertools import combinations"
   ]
  },
  {
   "cell_type": "code",
   "execution_count": 19,
   "metadata": {
    "_cell_guid": "79c7e3d0-c299-4dcb-8224-4455121ee9b0",
    "_uuid": "d629ff2d2480ee46fbb7e2d37f6b5fab8052498a",
    "colab": {},
    "colab_type": "code",
    "collapsed": true,
    "id": "oyGfxL3eVp9-"
   },
   "outputs": [
    {
     "data": {
      "text/html": [
       "<div>\n",
       "<style scoped>\n",
       "    .dataframe tbody tr th:only-of-type {\n",
       "        vertical-align: middle;\n",
       "    }\n",
       "\n",
       "    .dataframe tbody tr th {\n",
       "        vertical-align: top;\n",
       "    }\n",
       "\n",
       "    .dataframe thead th {\n",
       "        text-align: right;\n",
       "    }\n",
       "</style>\n",
       "<table border=\"1\" class=\"dataframe\">\n",
       "  <thead>\n",
       "    <tr style=\"text-align: right;\">\n",
       "      <th></th>\n",
       "      <th>imdb_id</th>\n",
       "      <th>budget</th>\n",
       "      <th>revenue</th>\n",
       "      <th>original_title</th>\n",
       "      <th>cast</th>\n",
       "      <th>director</th>\n",
       "      <th>tagline</th>\n",
       "      <th>overview</th>\n",
       "      <th>runtime</th>\n",
       "      <th>genres</th>\n",
       "      <th>production_companies</th>\n",
       "      <th>release_date</th>\n",
       "      <th>vote_average</th>\n",
       "      <th>release_year</th>\n",
       "    </tr>\n",
       "  </thead>\n",
       "  <tbody>\n",
       "    <tr>\n",
       "      <td>508</td>\n",
       "      <td>tt0268978</td>\n",
       "      <td>60000000</td>\n",
       "      <td>313542341</td>\n",
       "      <td>A Beautiful Mind</td>\n",
       "      <td>Russell Crowe|Ed Harris|Jennifer Connelly|Chri...</td>\n",
       "      <td>Ron Howard</td>\n",
       "      <td>I need to believe that something extra ordinar...</td>\n",
       "      <td>At Princeton University, John Nash struggles t...</td>\n",
       "      <td>135</td>\n",
       "      <td>Drama|Romance</td>\n",
       "      <td>Imagine Entertainment|DreamWorks SKG|Universal...</td>\n",
       "      <td>12/11/2001</td>\n",
       "      <td>7.5</td>\n",
       "      <td>2001</td>\n",
       "    </tr>\n",
       "    <tr>\n",
       "      <td>79</td>\n",
       "      <td>tt1666801</td>\n",
       "      <td>8500000</td>\n",
       "      <td>43528634</td>\n",
       "      <td>The DUFF</td>\n",
       "      <td>Mae Whitman|Robbie Amell|Bella Thorne|Bianca A...</td>\n",
       "      <td>Ari Sandel</td>\n",
       "      <td>You either know one, you have one, or you are ...</td>\n",
       "      <td>Bianca's universe turns upside down when she l...</td>\n",
       "      <td>100</td>\n",
       "      <td>Romance|Comedy</td>\n",
       "      <td>Wonderland Sound and Vision|CBS Films|Vast Ent...</td>\n",
       "      <td>2/20/2015</td>\n",
       "      <td>6.8</td>\n",
       "      <td>2015</td>\n",
       "    </tr>\n",
       "    <tr>\n",
       "      <td>1702</td>\n",
       "      <td>tt0496806</td>\n",
       "      <td>85000000</td>\n",
       "      <td>311312624</td>\n",
       "      <td>Ocean's Thirteen</td>\n",
       "      <td>George Clooney|Brad Pitt|Matt Damon|Al Pacino|...</td>\n",
       "      <td>Steven Soderbergh</td>\n",
       "      <td>What are the odds of getting even? 13 to one.</td>\n",
       "      <td>Danny Ocean's team of criminals are back and a...</td>\n",
       "      <td>122</td>\n",
       "      <td>Crime|Thriller</td>\n",
       "      <td>Village Roadshow Pictures|Section Eight|Jerry ...</td>\n",
       "      <td>6/7/2007</td>\n",
       "      <td>6.4</td>\n",
       "      <td>2007</td>\n",
       "    </tr>\n",
       "    <tr>\n",
       "      <td>1331</td>\n",
       "      <td>tt0386588</td>\n",
       "      <td>70000000</td>\n",
       "      <td>368100420</td>\n",
       "      <td>Hitch</td>\n",
       "      <td>Will Smith|Eva Mendes|Kevin James|Amber Vallet...</td>\n",
       "      <td>Andy Tennant</td>\n",
       "      <td>The cure for the common man.</td>\n",
       "      <td>Dating coach Alex 'Hitch' Hitchens mentors a b...</td>\n",
       "      <td>118</td>\n",
       "      <td>Comedy|Drama|Romance</td>\n",
       "      <td>Columbia Pictures Corporation|Overbrook Entert...</td>\n",
       "      <td>2/10/2005</td>\n",
       "      <td>6.3</td>\n",
       "      <td>2005</td>\n",
       "    </tr>\n",
       "    <tr>\n",
       "      <td>692</td>\n",
       "      <td>tt0396707</td>\n",
       "      <td>12000000</td>\n",
       "      <td>7070330</td>\n",
       "      <td>The Secret of Moonacre</td>\n",
       "      <td>Ioan Gruffudd|Dakota Blue Richards|Tim Curry|A...</td>\n",
       "      <td>GÃ¡bor CsupÃ³</td>\n",
       "      <td>A Magical Journey Begins.</td>\n",
       "      <td>When 13 year old Maria Merryweather's father d...</td>\n",
       "      <td>103</td>\n",
       "      <td>Adventure|Fantasy|Drama|Science Fiction|Romance</td>\n",
       "      <td>South Pacific Pictures|Metropolitan Filmexport...</td>\n",
       "      <td>9/6/2008</td>\n",
       "      <td>5.7</td>\n",
       "      <td>2008</td>\n",
       "    </tr>\n",
       "  </tbody>\n",
       "</table>\n",
       "</div>"
      ],
      "text/plain": [
       "        imdb_id    budget    revenue          original_title  \\\n",
       "508   tt0268978  60000000  313542341        A Beautiful Mind   \n",
       "79    tt1666801   8500000   43528634                The DUFF   \n",
       "1702  tt0496806  85000000  311312624        Ocean's Thirteen   \n",
       "1331  tt0386588  70000000  368100420                   Hitch   \n",
       "692   tt0396707  12000000    7070330  The Secret of Moonacre   \n",
       "\n",
       "                                                   cast           director  \\\n",
       "508   Russell Crowe|Ed Harris|Jennifer Connelly|Chri...         Ron Howard   \n",
       "79    Mae Whitman|Robbie Amell|Bella Thorne|Bianca A...         Ari Sandel   \n",
       "1702  George Clooney|Brad Pitt|Matt Damon|Al Pacino|...  Steven Soderbergh   \n",
       "1331  Will Smith|Eva Mendes|Kevin James|Amber Vallet...       Andy Tennant   \n",
       "692   Ioan Gruffudd|Dakota Blue Richards|Tim Curry|A...      GÃ¡bor CsupÃ³   \n",
       "\n",
       "                                                tagline  \\\n",
       "508   I need to believe that something extra ordinar...   \n",
       "79    You either know one, you have one, or you are ...   \n",
       "1702      What are the odds of getting even? 13 to one.   \n",
       "1331                       The cure for the common man.   \n",
       "692                           A Magical Journey Begins.   \n",
       "\n",
       "                                               overview  runtime  \\\n",
       "508   At Princeton University, John Nash struggles t...      135   \n",
       "79    Bianca's universe turns upside down when she l...      100   \n",
       "1702  Danny Ocean's team of criminals are back and a...      122   \n",
       "1331  Dating coach Alex 'Hitch' Hitchens mentors a b...      118   \n",
       "692   When 13 year old Maria Merryweather's father d...      103   \n",
       "\n",
       "                                               genres  \\\n",
       "508                                     Drama|Romance   \n",
       "79                                     Romance|Comedy   \n",
       "1702                                   Crime|Thriller   \n",
       "1331                             Comedy|Drama|Romance   \n",
       "692   Adventure|Fantasy|Drama|Science Fiction|Romance   \n",
       "\n",
       "                                   production_companies release_date  \\\n",
       "508   Imagine Entertainment|DreamWorks SKG|Universal...   12/11/2001   \n",
       "79    Wonderland Sound and Vision|CBS Films|Vast Ent...    2/20/2015   \n",
       "1702  Village Roadshow Pictures|Section Eight|Jerry ...     6/7/2007   \n",
       "1331  Columbia Pictures Corporation|Overbrook Entert...    2/10/2005   \n",
       "692   South Pacific Pictures|Metropolitan Filmexport...     9/6/2008   \n",
       "\n",
       "      vote_average  release_year  \n",
       "508            7.5          2001  \n",
       "79             6.8          2015  \n",
       "1702           6.4          2007  \n",
       "1331           6.3          2005  \n",
       "692            5.7          2008  "
      ]
     },
     "execution_count": 19,
     "metadata": {},
     "output_type": "execute_result"
    }
   ],
   "source": [
    "data = pd.read_csv('movie_bd_v5.csv')\n",
    "data.sample(5)"
   ]
  },
  {
   "cell_type": "code",
   "execution_count": 20,
   "metadata": {
    "colab": {},
    "colab_type": "code",
    "collapsed": true,
    "id": "CoYUnagMVp-C"
   },
   "outputs": [
    {
     "data": {
      "text/html": [
       "<div>\n",
       "<style scoped>\n",
       "    .dataframe tbody tr th:only-of-type {\n",
       "        vertical-align: middle;\n",
       "    }\n",
       "\n",
       "    .dataframe tbody tr th {\n",
       "        vertical-align: top;\n",
       "    }\n",
       "\n",
       "    .dataframe thead th {\n",
       "        text-align: right;\n",
       "    }\n",
       "</style>\n",
       "<table border=\"1\" class=\"dataframe\">\n",
       "  <thead>\n",
       "    <tr style=\"text-align: right;\">\n",
       "      <th></th>\n",
       "      <th>budget</th>\n",
       "      <th>revenue</th>\n",
       "      <th>runtime</th>\n",
       "      <th>vote_average</th>\n",
       "      <th>release_year</th>\n",
       "    </tr>\n",
       "  </thead>\n",
       "  <tbody>\n",
       "    <tr>\n",
       "      <td>count</td>\n",
       "      <td>1.889000e+03</td>\n",
       "      <td>1.889000e+03</td>\n",
       "      <td>1889.000000</td>\n",
       "      <td>1889.000000</td>\n",
       "      <td>1889.000000</td>\n",
       "    </tr>\n",
       "    <tr>\n",
       "      <td>mean</td>\n",
       "      <td>5.431083e+07</td>\n",
       "      <td>1.553653e+08</td>\n",
       "      <td>109.658549</td>\n",
       "      <td>6.140762</td>\n",
       "      <td>2007.860773</td>\n",
       "    </tr>\n",
       "    <tr>\n",
       "      <td>std</td>\n",
       "      <td>4.858721e+07</td>\n",
       "      <td>2.146698e+08</td>\n",
       "      <td>18.017041</td>\n",
       "      <td>0.764763</td>\n",
       "      <td>4.468841</td>\n",
       "    </tr>\n",
       "    <tr>\n",
       "      <td>min</td>\n",
       "      <td>5.000000e+06</td>\n",
       "      <td>2.033165e+06</td>\n",
       "      <td>63.000000</td>\n",
       "      <td>3.300000</td>\n",
       "      <td>2000.000000</td>\n",
       "    </tr>\n",
       "    <tr>\n",
       "      <td>25%</td>\n",
       "      <td>2.000000e+07</td>\n",
       "      <td>3.456058e+07</td>\n",
       "      <td>97.000000</td>\n",
       "      <td>5.600000</td>\n",
       "      <td>2004.000000</td>\n",
       "    </tr>\n",
       "    <tr>\n",
       "      <td>50%</td>\n",
       "      <td>3.800000e+07</td>\n",
       "      <td>8.361541e+07</td>\n",
       "      <td>107.000000</td>\n",
       "      <td>6.100000</td>\n",
       "      <td>2008.000000</td>\n",
       "    </tr>\n",
       "    <tr>\n",
       "      <td>75%</td>\n",
       "      <td>7.200000e+07</td>\n",
       "      <td>1.782626e+08</td>\n",
       "      <td>120.000000</td>\n",
       "      <td>6.600000</td>\n",
       "      <td>2012.000000</td>\n",
       "    </tr>\n",
       "    <tr>\n",
       "      <td>max</td>\n",
       "      <td>3.800000e+08</td>\n",
       "      <td>2.781506e+09</td>\n",
       "      <td>214.000000</td>\n",
       "      <td>8.100000</td>\n",
       "      <td>2015.000000</td>\n",
       "    </tr>\n",
       "  </tbody>\n",
       "</table>\n",
       "</div>"
      ],
      "text/plain": [
       "             budget       revenue      runtime  vote_average  release_year\n",
       "count  1.889000e+03  1.889000e+03  1889.000000   1889.000000   1889.000000\n",
       "mean   5.431083e+07  1.553653e+08   109.658549      6.140762   2007.860773\n",
       "std    4.858721e+07  2.146698e+08    18.017041      0.764763      4.468841\n",
       "min    5.000000e+06  2.033165e+06    63.000000      3.300000   2000.000000\n",
       "25%    2.000000e+07  3.456058e+07    97.000000      5.600000   2004.000000\n",
       "50%    3.800000e+07  8.361541e+07   107.000000      6.100000   2008.000000\n",
       "75%    7.200000e+07  1.782626e+08   120.000000      6.600000   2012.000000\n",
       "max    3.800000e+08  2.781506e+09   214.000000      8.100000   2015.000000"
      ]
     },
     "execution_count": 20,
     "metadata": {},
     "output_type": "execute_result"
    }
   ],
   "source": [
    "data.describe()"
   ]
  },
  {
   "cell_type": "markdown",
   "metadata": {
    "colab_type": "text",
    "id": "DTIt7ezGVp-G"
   },
   "source": [
    "# Предобработка"
   ]
  },
  {
   "cell_type": "code",
   "execution_count": 21,
   "metadata": {
    "colab": {},
    "colab_type": "code",
    "id": "jNb40DwKVp-H"
   },
   "outputs": [],
   "source": [
    "# creating a dictionary for inserting answers on that Project questions\n",
    "answers = {}\n",
    "\n",
    "\n",
    "def get_list_of_lists(seria):\n",
    "    \"\"\" Getting a list of lists as a result of splitting into divided items \n",
    "    some seria of strings where every word is divided by '|' \n",
    "    \n",
    "    :param seria: a Seria\n",
    "    \n",
    "    \"\"\"\n",
    "    \n",
    "    items_list =  [s.split(sep='|') for s in seria]\n",
    "    return (items_list)\n",
    "\n",
    "\n",
    "def get_dict(list_of_lists):\n",
    "    \"\"\"Getting a dictionary from a list of lists where \n",
    "    keys are the different items of the list of lists and \n",
    "    every value means how many times the \n",
    "    correspondent item are in the the list of lists'\n",
    "    \n",
    "    :param list_of_lists: a list of lists\n",
    "    \n",
    "    \"\"\"\n",
    "    \n",
    "    c = Counter() \n",
    "    for el in list_of_lists:  \n",
    "        for word in el:          \n",
    "            c[word]+=1\n",
    "    return c\n",
    "\n",
    "\n",
    "def num_words(s):\n",
    "    \"\"\" Extracting number of words from string s, where\n",
    "    words are bounded by the space symbol \n",
    "    \n",
    "    :param s:  a string\n",
    "    \n",
    "    \"\"\"\n",
    "    \n",
    "    return len(s.split(sep=' '))\n",
    "\n",
    "\n",
    "def extract_month(s):\n",
    "    \"\"\"Extracting part of a string from the beginning to \n",
    "    the first income of '/' (not including the last one), \n",
    "    which corresponds to a month number, and conversion it \n",
    "    in month's name in Russian\n",
    "    \n",
    "    :param s: a string\n",
    "    \n",
    "    \"\"\"\n",
    "    \n",
    "    return months[int(s.replace(s, s[: s.find(\"/\")]))]\n",
    "\n",
    "\n",
    "months = {1:'Январь', 2:'Февраль', 3:'Март', 4:'Апрель', \n",
    "          5:'Май', 6:'Июнь', 7:'Июль', 8:'Август', \n",
    "          9:'Сентябрь', 10:'Октябрь', 11:'Ноябрь', 12:'Декабрь'}\n",
    "\n",
    "# Extracting month number from the column 'release_month' in the data \n",
    "release_month = data.release_date.apply(extract_month)\n",
    "\n",
    "# The profit data\n",
    "profit = data.revenue - data.budget \n",
    "\n",
    "# The genres as a list form for every movie in the data\n",
    "genres_as_lists = get_list_of_lists(data.genres)\n",
    "\n",
    "# There are movies in the source data with more then one director \n",
    "# and their mames are given as a string for that movies. Here is \n",
    "# the directors' names represents in a list form \n",
    "# for every movie in the data\n",
    "directors_as_lists = get_list_of_lists(data.director)\n",
    "\n",
    "# The actors' names as a list  for every movie in the data\n",
    "actors_as_list = get_list_of_lists(data.cast)\n",
    "\n",
    "# The production companies of every movie represented as a list  \n",
    "ProdCompanies_as_lists =  get_list_of_lists(data.production_companies)\n",
    "\n",
    "# The dictionary where every genre is a key, and \n",
    "# its frequency in the data is the value \n",
    "genres_dct = get_dict(genres_as_lists)\n",
    "\n",
    "# The dictionary where every director's name is a key, and \n",
    "# its frequency in the data is the value\n",
    "directors_dct = get_dict(directors_as_lists)\n",
    "\n",
    "# The dictionary where every actor's name is a key, and \n",
    "# its frequency in the data is the value\n",
    "actors_dct = get_dict(actors_as_list)\n",
    "\n",
    "# The dictionary where every Productin Company is a key, and\n",
    "# its frequency in the data is the value\n",
    "ProdCompanies_dct = get_dict(ProdCompanies_as_lists)\n",
    "\n",
    "# Extracting of every movie title's lenth\n",
    "title_lenth = data.original_title.apply(len)"
   ]
  },
  {
   "cell_type": "markdown",
   "metadata": {
    "colab_type": "text",
    "id": "YxZaH-nPVp-L"
   },
   "source": [
    "# 1. У какого фильма из списка самый большой бюджет?"
   ]
  },
  {
   "cell_type": "markdown",
   "metadata": {
    "colab_type": "text",
    "id": "Nd-G5gX6Vp-M"
   },
   "source": [
    "Использовать варианты ответов в коде решения запрещено.    \n",
    "Вы думаете и в жизни у вас будут варианты ответов?)"
   ]
  },
  {
   "cell_type": "code",
   "execution_count": 112,
   "metadata": {
    "colab": {},
    "colab_type": "code",
    "id": "uVnXAY5RVp-O"
   },
   "outputs": [],
   "source": [
    "answers['1'] = '5. Pirates of the Caribbean: On Stranger Tides (tt1298650)'  # +"
   ]
  },
  {
   "cell_type": "code",
   "execution_count": 22,
   "metadata": {
    "colab": {},
    "colab_type": "code",
    "id": "dZwb3m28Vp-S"
   },
   "outputs": [
    {
     "name": "stdout",
     "output_type": "stream",
     "text": [
      "Pirates of the Caribbean: On Stranger Tides (tt1298650)\n"
     ]
    }
   ],
   "source": [
    "df = data[data.budget == data.budget.max()]\n",
    "\n",
    "print(f\"{df.original_title.values[0]} ({df.imdb_id.values[0]})\")"
   ]
  },
  {
   "cell_type": "markdown",
   "metadata": {
    "colab_type": "text",
    "id": "K7L3nbRXVp-X"
   },
   "source": [
    "ВАРИАНТ 2"
   ]
  },
  {
   "cell_type": "code",
   "execution_count": 28,
   "metadata": {
    "colab": {},
    "colab_type": "code",
    "id": "OGaoQI7rVp-X"
   },
   "outputs": [
    {
     "name": "stdout",
     "output_type": "stream",
     "text": [
      "Pirates of the Caribbean: On Stranger Tides (tt1298650)\n"
     ]
    }
   ],
   "source": [
    "res = data.loc[data.budget == data.budget.max(),\n",
    "               ['original_title', \"imdb_id\"]].values[0]\n",
    "\n",
    "print(f\"{res[0]} ({res[1]})\")"
   ]
  },
  {
   "cell_type": "markdown",
   "metadata": {
    "colab_type": "text",
    "id": "FNRbbI3vVp-c"
   },
   "source": [
    "# 2. Какой из фильмов самый длительный (в минутах)?"
   ]
  },
  {
   "cell_type": "code",
   "execution_count": 113,
   "metadata": {
    "colab": {},
    "colab_type": "code",
    "id": "vHAoEXNTVp-d"
   },
   "outputs": [],
   "source": [
    "answers['2'] = '2. Gods and Generals (tt0279111)'  # +"
   ]
  },
  {
   "cell_type": "code",
   "execution_count": 25,
   "metadata": {
    "colab": {},
    "colab_type": "code",
    "id": "ot-VX2XrVp-g"
   },
   "outputs": [
    {
     "name": "stdout",
     "output_type": "stream",
     "text": [
      "Gods and Generals tt0279111\n"
     ]
    }
   ],
   "source": [
    "df2 = data.loc[data.runtime == data.runtime.max(),\n",
    "               ['original_title', \"imdb_id\"]]\n",
    "\n",
    "print (f'{df2.original_title.values[0]} {df2.imdb_id.values[0]}')"
   ]
  },
  {
   "cell_type": "markdown",
   "metadata": {
    "colab_type": "text",
    "id": "bapLlpW8Vp-k"
   },
   "source": [
    "# 3. Какой из фильмов самый короткий (в минутах)?\n",
    "\n",
    "\n",
    "\n"
   ]
  },
  {
   "cell_type": "code",
   "execution_count": 114,
   "metadata": {},
   "outputs": [],
   "source": [
    "answers['3'] = '3. Winnie the Pooh (tt1449283)'  # +"
   ]
  },
  {
   "cell_type": "code",
   "execution_count": 29,
   "metadata": {
    "colab": {},
    "colab_type": "code",
    "id": "YBxaSHuAVp-l",
    "scrolled": true
   },
   "outputs": [
    {
     "name": "stdout",
     "output_type": "stream",
     "text": [
      "Winnie the Pooh (tt1449283)\n"
     ]
    }
   ],
   "source": [
    "df3 = data[data.runtime == data.runtime.min()]\n",
    "\n",
    "print(f\"{df3.original_title.values[0]} ({df3.imdb_id.values[0]})\")"
   ]
  },
  {
   "cell_type": "markdown",
   "metadata": {},
   "source": [
    "ВАРИАНТ 2"
   ]
  },
  {
   "cell_type": "code",
   "execution_count": 30,
   "metadata": {},
   "outputs": [
    {
     "name": "stdout",
     "output_type": "stream",
     "text": [
      "Winnie the Pooh (tt1449283)\n"
     ]
    }
   ],
   "source": [
    "res = data.loc[data['runtime'] == data['runtime'].min(), \n",
    "               ['original_title', 'imdb_id']]\n",
    "\n",
    "print(f\"{res.original_title.values[0]} ({res.imdb_id.values[0]})\")"
   ]
  },
  {
   "cell_type": "markdown",
   "metadata": {
    "colab_type": "text",
    "id": "TfQbxbfNVp-p"
   },
   "source": [
    "# 4. Какова средняя длительность фильмов?\n"
   ]
  },
  {
   "cell_type": "code",
   "execution_count": 115,
   "metadata": {
    "colab": {},
    "colab_type": "code",
    "id": "5K6dKZYVVp-q"
   },
   "outputs": [],
   "source": [
    "answers['4'] = '2. 110'  # +"
   ]
  },
  {
   "cell_type": "code",
   "execution_count": 31,
   "metadata": {},
   "outputs": [
    {
     "data": {
      "text/plain": [
       "109.6585494970884"
      ]
     },
     "execution_count": 31,
     "metadata": {},
     "output_type": "execute_result"
    }
   ],
   "source": [
    "data.describe().loc['mean']['runtime']"
   ]
  },
  {
   "cell_type": "markdown",
   "metadata": {},
   "source": [
    "ВАРИАНТ 2"
   ]
  },
  {
   "cell_type": "code",
   "execution_count": 32,
   "metadata": {},
   "outputs": [
    {
     "data": {
      "text/plain": [
       "109.6585494970884"
      ]
     },
     "execution_count": 32,
     "metadata": {},
     "output_type": "execute_result"
    }
   ],
   "source": [
    "data.runtime.mean()"
   ]
  },
  {
   "cell_type": "markdown",
   "metadata": {
    "colab_type": "text",
    "id": "r5TvbnT_Vp-u"
   },
   "source": [
    "# 5. Каково медианное значение длительности фильмов? "
   ]
  },
  {
   "cell_type": "code",
   "execution_count": 116,
   "metadata": {
    "colab": {},
    "colab_type": "code",
    "id": "iBROplKnVp-v"
   },
   "outputs": [],
   "source": [
    "answers['5'] = '1. 107'  # +"
   ]
  },
  {
   "cell_type": "code",
   "execution_count": 33,
   "metadata": {},
   "outputs": [
    {
     "data": {
      "text/plain": [
       "107.0"
      ]
     },
     "execution_count": 33,
     "metadata": {},
     "output_type": "execute_result"
    }
   ],
   "source": [
    "data.describe().loc['50%']['runtime']"
   ]
  },
  {
   "cell_type": "markdown",
   "metadata": {},
   "source": [
    "ВАРИАНТ 2"
   ]
  },
  {
   "cell_type": "code",
   "execution_count": 34,
   "metadata": {},
   "outputs": [
    {
     "data": {
      "text/plain": [
       "107.0"
      ]
     },
     "execution_count": 34,
     "metadata": {},
     "output_type": "execute_result"
    }
   ],
   "source": [
    "np.median(data.runtime)"
   ]
  },
  {
   "cell_type": "markdown",
   "metadata": {
    "colab_type": "text",
    "id": "39P-deDSVp-y"
   },
   "source": [
    "# 6. Какой самый прибыльный фильм?\n",
    "#### Внимание! Здесь и далее под «прибылью» или «убытками» понимается разность между сборами и бюджетом фильма. (прибыль = сборы - бюджет) в нашем датасете это будет (profit = revenue - budget) "
   ]
  },
  {
   "cell_type": "code",
   "execution_count": 117,
   "metadata": {},
   "outputs": [],
   "source": [
    "answers['6'] = '5. Avatar (tt0499549)'  # +"
   ]
  },
  {
   "cell_type": "code",
   "execution_count": 35,
   "metadata": {},
   "outputs": [
    {
     "name": "stdout",
     "output_type": "stream",
     "text": [
      "Avatar (tt0499549)\n"
     ]
    }
   ],
   "source": [
    "# Inserting in the data a new column with profit values:\n",
    "data['profit'] = profit\n",
    "\n",
    "res = data.loc[data['profit'] == data['profit'].max(), \n",
    "               ['original_title', 'imdb_id']]\n",
    "\n",
    "print(f\"{res.original_title.values[0]} ({res.imdb_id.values[0]})\")"
   ]
  },
  {
   "cell_type": "markdown",
   "metadata": {},
   "source": [
    "ВАРИАНТ 2"
   ]
  },
  {
   "cell_type": "code",
   "execution_count": 44,
   "metadata": {},
   "outputs": [
    {
     "name": "stdout",
     "output_type": "stream",
     "text": [
      "Avatar (tt0499549)\n"
     ]
    }
   ],
   "source": [
    "# Reading the data into the new dataframe 'dat_2', \n",
    "# as the profit data is already added to the dataframe 'data'\n",
    "dat_2 = pd.read_csv('movie_bd_v5.csv')\n",
    "\n",
    "# Inserting new column, named 'profit', each value of it equals \n",
    "# the correspondent difference between revenue and budget values,\n",
    "# right following them:\n",
    "dat_2.insert(3, 'profit', dat_2.revenue - dat_2.budget)  \n",
    "max_profit_movie_2 = dat_2.loc[dat_2.profit == dat_2.profit.max(), \n",
    "                               ['original_title', 'imdb_id' ]]\n",
    "\n",
    "print(\n",
    "    f\"{max_profit_movie_2.original_title.values[0]} ({max_profit_movie_2.imdb_id.values[0]})\"\n",
    "     )"
   ]
  },
  {
   "cell_type": "markdown",
   "metadata": {
    "colab_type": "text",
    "id": "M99JmIX4Vp-2"
   },
   "source": [
    "# 7. Какой фильм самый убыточный? "
   ]
  },
  {
   "cell_type": "code",
   "execution_count": 118,
   "metadata": {
    "colab": {},
    "colab_type": "code",
    "id": "w-D2m4XPVp-3"
   },
   "outputs": [],
   "source": [
    "answers['7'] = '5. The Lone Ranger (tt1210819)'  # +"
   ]
  },
  {
   "cell_type": "code",
   "execution_count": 45,
   "metadata": {},
   "outputs": [
    {
     "name": "stdout",
     "output_type": "stream",
     "text": [
      "The Lone Ranger (tt1210819)\n"
     ]
    }
   ],
   "source": [
    "# The condition ```data.profit<0``` below is not unnecessary, \n",
    "# as a movie with min profit, but still positive \n",
    "#  cannot be considered as unprofitable\n",
    "max_unprofit_movie = data.loc[(data.profit<0) & (data.profit==data.profit.min()),\n",
    "                              ['original_title', 'imdb_id']]\n",
    "print(\n",
    "      f\"{max_unprofit_movie.original_title.values[0]} ({max_unprofit_movie.imdb_id.values[0]})\"\n",
    "      )"
   ]
  },
  {
   "cell_type": "markdown",
   "metadata": {
    "colab_type": "text",
    "id": "wEOM5ERVVp-6"
   },
   "source": [
    "# 8. У скольких фильмов из датасета объем сборов оказался выше бюджета?"
   ]
  },
  {
   "cell_type": "code",
   "execution_count": 119,
   "metadata": {
    "colab": {},
    "colab_type": "code",
    "id": "y00_7HD6Vp-7"
   },
   "outputs": [],
   "source": [
    "answers['8'] = '1. 1478'  # +"
   ]
  },
  {
   "cell_type": "code",
   "execution_count": 46,
   "metadata": {},
   "outputs": [
    {
     "data": {
      "text/plain": [
       "1478"
      ]
     },
     "execution_count": 46,
     "metadata": {},
     "output_type": "execute_result"
    }
   ],
   "source": [
    "number_profit_movies = data.loc[data.profit > 0, 'imdb_id'].count()\n",
    "number_profit_movies"
   ]
  },
  {
   "cell_type": "markdown",
   "metadata": {},
   "source": [
    "ВАРИАНТ 2"
   ]
  },
  {
   "cell_type": "code",
   "execution_count": 47,
   "metadata": {},
   "outputs": [
    {
     "data": {
      "text/plain": [
       "1478"
      ]
     },
     "execution_count": 47,
     "metadata": {},
     "output_type": "execute_result"
    }
   ],
   "source": [
    "number_profit_movies = len(data.loc[data.profit > 0])\n",
    "number_profit_movies"
   ]
  },
  {
   "cell_type": "markdown",
   "metadata": {
    "colab_type": "text",
    "id": "xhpspA9KVp_A"
   },
   "source": [
    "# 9. Какой фильм оказался самым кассовым в 2008 году?"
   ]
  },
  {
   "cell_type": "code",
   "execution_count": 120,
   "metadata": {
    "colab": {},
    "colab_type": "code",
    "id": "MoUyQr9RVp_B"
   },
   "outputs": [],
   "source": [
    "answers['9'] = '4. The Dark Knight (tt0468569)'  # +"
   ]
  },
  {
   "cell_type": "code",
   "execution_count": 50,
   "metadata": {},
   "outputs": [
    {
     "name": "stdout",
     "output_type": "stream",
     "text": [
      "The Dark Knight (tt0468569)\n"
     ]
    }
   ],
   "source": [
    "movies_2008 = data.loc[data.release_year == 2008, ['original_title', \"imdb_id\",'revenue']]\n",
    "max_revenue_2008 = movies_2008[movies_2008.revenue == movies_2008.revenue.max()]\n",
    "\n",
    "print(f\"{max_revenue_2008.original_title.values[0]} ({max_revenue_2008.imdb_id.values[0]})\")"
   ]
  },
  {
   "cell_type": "markdown",
   "metadata": {},
   "source": [
    "ВАРИАНТ 2"
   ]
  },
  {
   "cell_type": "code",
   "execution_count": 35,
   "metadata": {
    "collapsed": true
   },
   "outputs": [
    {
     "data": {
      "text/html": [
       "<div>\n",
       "<style scoped>\n",
       "    .dataframe tbody tr th:only-of-type {\n",
       "        vertical-align: middle;\n",
       "    }\n",
       "\n",
       "    .dataframe tbody tr th {\n",
       "        vertical-align: top;\n",
       "    }\n",
       "\n",
       "    .dataframe thead th {\n",
       "        text-align: right;\n",
       "    }\n",
       "</style>\n",
       "<table border=\"1\" class=\"dataframe\">\n",
       "  <thead>\n",
       "    <tr style=\"text-align: right;\">\n",
       "      <th></th>\n",
       "      <th>imdb_id</th>\n",
       "      <th>budget</th>\n",
       "      <th>revenue</th>\n",
       "      <th>original_title</th>\n",
       "      <th>cast</th>\n",
       "      <th>director</th>\n",
       "      <th>tagline</th>\n",
       "      <th>overview</th>\n",
       "      <th>runtime</th>\n",
       "      <th>genres</th>\n",
       "      <th>production_companies</th>\n",
       "      <th>release_date</th>\n",
       "      <th>vote_average</th>\n",
       "      <th>release_year</th>\n",
       "      <th>profit</th>\n",
       "    </tr>\n",
       "  </thead>\n",
       "  <tbody>\n",
       "    <tr>\n",
       "      <td>599</td>\n",
       "      <td>tt0468569</td>\n",
       "      <td>185000000</td>\n",
       "      <td>1001921825</td>\n",
       "      <td>The Dark Knight</td>\n",
       "      <td>Christian Bale|Michael Caine|Heath Ledger|Aaro...</td>\n",
       "      <td>Christopher Nolan</td>\n",
       "      <td>Why So Serious?</td>\n",
       "      <td>Batman raises the stakes in his war on crime. ...</td>\n",
       "      <td>152</td>\n",
       "      <td>Drama|Action|Crime|Thriller</td>\n",
       "      <td>DC Comics|Legendary Pictures|Warner Bros.|Syncopy</td>\n",
       "      <td>7/16/2008</td>\n",
       "      <td>8.1</td>\n",
       "      <td>2008</td>\n",
       "      <td>816921825</td>\n",
       "    </tr>\n",
       "  </tbody>\n",
       "</table>\n",
       "</div>"
      ],
      "text/plain": [
       "       imdb_id     budget     revenue   original_title  \\\n",
       "599  tt0468569  185000000  1001921825  The Dark Knight   \n",
       "\n",
       "                                                  cast           director  \\\n",
       "599  Christian Bale|Michael Caine|Heath Ledger|Aaro...  Christopher Nolan   \n",
       "\n",
       "             tagline                                           overview  \\\n",
       "599  Why So Serious?  Batman raises the stakes in his war on crime. ...   \n",
       "\n",
       "     runtime                       genres  \\\n",
       "599      152  Drama|Action|Crime|Thriller   \n",
       "\n",
       "                                  production_companies release_date  \\\n",
       "599  DC Comics|Legendary Pictures|Warner Bros.|Syncopy    7/16/2008   \n",
       "\n",
       "     vote_average  release_year     profit  \n",
       "599           8.1          2008  816921825  "
      ]
     },
     "execution_count": 35,
     "metadata": {},
     "output_type": "execute_result"
    }
   ],
   "source": [
    "revenue_max_2008 = data.groupby(['release_year']).revenue.max()[2008]\n",
    "data.query('release_year == 2008 & revenue == @revenue_max_2008')"
   ]
  },
  {
   "cell_type": "markdown",
   "metadata": {
    "colab_type": "text",
    "id": "Zi4hDKidVp_F"
   },
   "source": [
    "# 10. Самый убыточный фильм за период с 2012 по 2014 г. (включительно)?\n"
   ]
  },
  {
   "cell_type": "code",
   "execution_count": 121,
   "metadata": {
    "colab": {},
    "colab_type": "code",
    "id": "XqyRmufJVp_F"
   },
   "outputs": [],
   "source": [
    "answers['10'] = '5. The Lone Ranger (tt1210819)'  # +"
   ]
  },
  {
   "cell_type": "code",
   "execution_count": 51,
   "metadata": {},
   "outputs": [
    {
     "name": "stdout",
     "output_type": "stream",
     "text": [
      "The Lone Ranger (tt1210819)\n"
     ]
    }
   ],
   "source": [
    "# The condition ```movies_for_period['profit']<0``` below  \n",
    "# is not unnecessary, as a movie with min profit, but still \n",
    "# positive, cannot be considered as unprofitable\n",
    "movies_for_period = data.loc[(data['release_year'] >=2012) \n",
    "                             & (data['release_year'] <=2014), \n",
    "                             ['original_title','imdb_id','profit']]\n",
    "\n",
    "max_unprofit_movie = movies_for_period[(movies_for_period['profit']<0) \n",
    "                                       & (movies_for_period['profit'] \n",
    "                                       == movies_for_period['profit'].min())]\n",
    "\n",
    "print(\n",
    "    f\"{max_unprofit_movie.original_title.values[0]} ({max_unprofit_movie.imdb_id.values[0]})\"\n",
    "    ) "
   ]
  },
  {
   "cell_type": "markdown",
   "metadata": {
    "colab_type": "text",
    "id": "EA7Sa9dkVp_I"
   },
   "source": [
    "# 11. Какого жанра фильмов больше всего?"
   ]
  },
  {
   "cell_type": "code",
   "execution_count": 122,
   "metadata": {},
   "outputs": [],
   "source": [
    "answers['11'] = '3. Drama'  # +"
   ]
  },
  {
   "cell_type": "code",
   "execution_count": 52,
   "metadata": {},
   "outputs": [
    {
     "data": {
      "text/plain": [
       "'Drama'"
      ]
     },
     "metadata": {},
     "output_type": "display_data"
    }
   ],
   "source": [
    "dict = genres_dct\n",
    "genre_max_often = max(genres_dct, key=genres_dct.get)\n",
    "display(genre_max_often)"
   ]
  },
  {
   "cell_type": "markdown",
   "metadata": {
    "colab_type": "text",
    "id": "Ax6g2C8SVp_M"
   },
   "source": [
    "ВАРИАНТ 2"
   ]
  },
  {
   "cell_type": "code",
   "execution_count": 55,
   "metadata": {
    "colab": {},
    "colab_type": "code",
    "id": "otO3SbrSVp_N"
   },
   "outputs": [
    {
     "name": "stdout",
     "output_type": "stream",
     "text": [
      "Counter({'Drama': 782, 'Comedy': 683, 'Thriller': 596, 'Action': 582, 'Adventure': 415, 'Crime': 315, 'Romance': 308, 'Family': 260, 'Science Fiction': 248, 'Fantasy': 222, 'Horror': 176, 'Mystery': 168, 'Animation': 139, 'Music': 64, 'History': 62, 'War': 58, 'Western': 19, 'Documentary': 8, 'Foreign': 2})\n"
     ]
    }
   ],
   "source": [
    "# The key in the first item, \n",
    "# printing by the print function for such type of dicitonary, \n",
    "# is the key with maximum value\n",
    "print(genres_dct)"
   ]
  },
  {
   "cell_type": "markdown",
   "metadata": {
    "colab_type": "text",
    "id": "T9_bPWpkVp_Q"
   },
   "source": [
    "# 12. Фильмы какого жанра чаще всего становятся прибыльными? "
   ]
  },
  {
   "cell_type": "code",
   "execution_count": 123,
   "metadata": {
    "colab": {},
    "colab_type": "code",
    "id": "Tmt8MaK1Vp_R"
   },
   "outputs": [],
   "source": [
    "answers['12'] = '1. Drama'  # +"
   ]
  },
  {
   "cell_type": "code",
   "execution_count": 56,
   "metadata": {
    "scrolled": true
   },
   "outputs": [
    {
     "name": "stdout",
     "output_type": "stream",
     "text": [
      "Counter({'Drama': 560, 'Comedy': 551, 'Thriller': 446, 'Action': 444, 'Adventure': 337, 'Romance': 242, 'Crime': 231, 'Family': 226, 'Science Fiction': 195, 'Fantasy': 188, 'Horror': 150, 'Animation': 120, 'Mystery': 119, 'Music': 47, 'History': 46, 'War': 41, 'Western': 12, 'Documentary': 7})\n"
     ]
    }
   ],
   "source": [
    "data_profit = data.loc[data['profit'] > 0]\n",
    "\n",
    "seria = data_profit.genres\n",
    "genre_profit_movies_list = get_list_of_lists(seria)\n",
    "\n",
    "dct_genre_profit_movies = get_dict(genre_profit_movies_list)\n",
    "\n",
    "# The key in the first item, printing by function Print \n",
    "# for such type of dicitonary, is the key with maximum value\n",
    "print(dct_genre_profit_movies)"
   ]
  },
  {
   "cell_type": "markdown",
   "metadata": {
    "colab_type": "text",
    "id": "0F23bgsDVp_U"
   },
   "source": [
    "# 13. У какого режиссера самые большие суммарные кассовые сбооры?"
   ]
  },
  {
   "cell_type": "code",
   "execution_count": 124,
   "metadata": {
    "colab": {},
    "colab_type": "code",
    "id": "K6Z3J8ygVp_X"
   },
   "outputs": [],
   "source": [
    "answers['13'] = '5. Peter Jackson'  # +"
   ]
  },
  {
   "cell_type": "code",
   "execution_count": 93,
   "metadata": {},
   "outputs": [
    {
     "data": {
      "text/plain": [
       "'Peter Jackson'"
      ]
     },
     "metadata": {},
     "output_type": "display_data"
    }
   ],
   "source": [
    "# There are movies in the source data with more then one director \n",
    "# and their mames are given as a string for that movies, so \n",
    "# let's firstly get  their names as a list\n",
    "dat13 = data.copy()\n",
    "\n",
    "# Adding a column containing every movie directors' name as a list\n",
    "dat13['directors_as_lists'] = directors_as_lists\n",
    "\n",
    "# Getting dictionary, with names of direcitors as keys \n",
    "# and values equal to correspodent total revenue for every director\n",
    "total_revenues_dict = {}\n",
    "for name in list(directors_dct.keys()):\n",
    "    total_revenues_dict[name] = dat13['revenue'][\n",
    "                                                 dat13['directors_as_lists'].\n",
    "                                                     map(lambda x: True if name in x else False)].sum()\n",
    "    \n",
    "dict = total_revenues_dict\n",
    "director_with_total_revenue = max(dict, key=dict.get)\n",
    "\n",
    "display(director_with_total_revenue) "
   ]
  },
  {
   "cell_type": "markdown",
   "metadata": {
    "colab_type": "text",
    "id": "PsYC9FgRVp_a"
   },
   "source": [
    "# 14. Какой режисер снял больше всего фильмов в стиле Action?"
   ]
  },
  {
   "cell_type": "code",
   "execution_count": 125,
   "metadata": {
    "colab": {},
    "colab_type": "code",
    "id": "wd2M-wHeVp_b"
   },
   "outputs": [],
   "source": [
    "answers['14'] = '3. Robert Rodriguez'  # +"
   ]
  },
  {
   "cell_type": "code",
   "execution_count": 94,
   "metadata": {},
   "outputs": [
    {
     "data": {
      "text/plain": [
       "'Robert Rodriguez'"
      ]
     },
     "metadata": {},
     "output_type": "display_data"
    }
   ],
   "source": [
    "# As there is no other genres' names, that might be considered \n",
    "# as the same by  .str.contains method,\n",
    "# using this method will not give wrong results\n",
    "dat14 = data[data.genres.str.contains('Action')]\n",
    "\n",
    "dir_AcionMovies_asList = get_list_of_lists(dat14.director)\n",
    "\n",
    "dir_NumActionMovies_dct = get_dict(dir_AcionMovies_asList)   \n",
    "\n",
    "director_max_ActionMovies = max(dir_NumActionMovies_dct, \n",
    "                                key=dir_NumActionMovies_dct.get)\n",
    "\n",
    "display(director_max_ActionMovies) "
   ]
  },
  {
   "cell_type": "markdown",
   "metadata": {
    "colab_type": "text",
    "id": "PQ0KciD7Vp_f"
   },
   "source": [
    "# 15. Фильмы с каким актером принесли самые высокие кассовые сборы в 2012 году? "
   ]
  },
  {
   "cell_type": "code",
   "execution_count": 126,
   "metadata": {
    "colab": {},
    "colab_type": "code",
    "id": "aga62oeKVp_g"
   },
   "outputs": [],
   "source": [
    "answers['15'] = '3. Chris Hemsworth'  # +"
   ]
  },
  {
   "cell_type": "code",
   "execution_count": 95,
   "metadata": {},
   "outputs": [
    {
     "data": {
      "text/plain": [
       "'Chris Hemsworth'"
      ]
     },
     "metadata": {},
     "output_type": "display_data"
    }
   ],
   "source": [
    "data15 = data.copy()\n",
    "data15['actors_as_list'] = actors_as_list\n",
    "\n",
    "dat_2012 = data15[data.release_year == 2012]\n",
    "\n",
    "totRevenues_dct = {}\n",
    "for name in list(actors_dct.keys()):\n",
    "    totRevenues_dct[name] = dat_2012['revenue'][\n",
    "        dat_2012['actors_as_list'].\n",
    "        map(lambda x: True if name in x else False)].sum()\n",
    "    \n",
    "dict = totRevenues_dct\n",
    "actor_with_max_totalRevenues = max(dict, key=dict.get)  \n",
    "\n",
    "display(actor_with_max_totalRevenues)    "
   ]
  },
  {
   "cell_type": "markdown",
   "metadata": {
    "colab_type": "text",
    "id": "mWHyyL7QVp_j"
   },
   "source": [
    "# 16. Какой актер снялся в большем количестве высокобюджетных фильмов?"
   ]
  },
  {
   "cell_type": "code",
   "execution_count": 127,
   "metadata": {
    "colab": {},
    "colab_type": "code",
    "id": "qQtmHKTFVp_k"
   },
   "outputs": [],
   "source": [
    "answers['16'] = '3. Matt Damon'  # +"
   ]
  },
  {
   "cell_type": "code",
   "execution_count": 96,
   "metadata": {},
   "outputs": [
    {
     "data": {
      "text/plain": [
       "'Matt Damon'"
      ]
     },
     "metadata": {},
     "output_type": "display_data"
    }
   ],
   "source": [
    "# Here by a high budget movie is meant a movie, \n",
    "# which budget is more than the average one\n",
    "seria = data[data.budget > data.budget.mean()].cast\n",
    "\n",
    "actors_lists = get_list_of_lists(seria)\n",
    "\n",
    "dict = get_dict(actors_lists)\n",
    "\n",
    "actor_withMax_HighBudget_Movies = max(dict, key=dict.get)\n",
    "\n",
    "display(actor_withMax_HighBudget_Movies)"
   ]
  },
  {
   "cell_type": "markdown",
   "metadata": {
    "colab_type": "text",
    "id": "NIh6AaW5Vp_n"
   },
   "source": [
    "# 17. В фильмах какого жанра больше всего снимался Nicolas Cage? "
   ]
  },
  {
   "cell_type": "code",
   "execution_count": 128,
   "metadata": {
    "colab": {},
    "colab_type": "code",
    "id": "H74SJDIBVp_n"
   },
   "outputs": [],
   "source": [
    "answers['17'] = '2. Action'  # +"
   ]
  },
  {
   "cell_type": "code",
   "execution_count": 98,
   "metadata": {},
   "outputs": [
    {
     "name": "stdout",
     "output_type": "stream",
     "text": [
      "Counter({'Action': 17, 'Thriller': 15, 'Drama': 12, 'Crime': 10, 'Fantasy': 8, 'Adventure': 7, 'Comedy': 6, 'Science Fiction': 4, 'Mystery': 3, 'Animation': 3, 'Family': 3, 'History': 2, 'War': 1, 'Horror': 1, 'Romance': 1})\n"
     ]
    }
   ],
   "source": [
    "# As there is no other genres' names, that might be considered \n",
    "# as the same by .str.contains method,\n",
    "# using the last mentioned method will not give wrong results\n",
    "\n",
    "Actor = 'Nicolas Cage'\n",
    "seria = data[data.cast.str.contains(Actor)].genres\n",
    "\n",
    "genres_Actor_lists = get_list_of_lists(seria)\n",
    "\n",
    "genres_Actor_dict = get_dict(genres_Actor_lists)\n",
    "\n",
    "# The key in the first item, printing by the function Print \n",
    "# for such type of dictionary, is the key with maximum value\n",
    "print(genres_Actor_dict)"
   ]
  },
  {
   "cell_type": "markdown",
   "metadata": {
    "colab_type": "text",
    "id": "RqOmPRfWVp_q"
   },
   "source": [
    "# 18. Самый убыточный фильм от Paramount Pictures"
   ]
  },
  {
   "cell_type": "code",
   "execution_count": 129,
   "metadata": {
    "colab": {},
    "colab_type": "code",
    "id": "9E_B0Y96Vp_r"
   },
   "outputs": [],
   "source": [
    "answers['18'] = '1. K-19: The Widowmaker (tt0267626)'  # +"
   ]
  },
  {
   "cell_type": "code",
   "execution_count": 75,
   "metadata": {},
   "outputs": [
    {
     "name": "stdout",
     "output_type": "stream",
     "text": [
      "K-19: The Widowmaker (tt0267626)\n"
     ]
    }
   ],
   "source": [
    "dat18 = data.copy()\n",
    "\n",
    "# Adding a new column to the data18, containing \n",
    "# the Product Companies' names data in a list-type form\n",
    "dat18['ProdCompanies_as_lists'] = ProdCompanies_as_lists\n",
    "\n",
    "dt = dat18[dat18.profit < 0][['ProdCompanies_as_lists', \n",
    "                              'profit', 'imdb_id', 'original_title']]\n",
    "\n",
    "PP = 'Paramount Pictures'\n",
    "dt_PP_min_value = dt['profit'][dt['ProdCompanies_as_lists'].\n",
    "                               map(lambda x: True if PP in x else False)].min()\n",
    "\n",
    "res = dt[dt.profit == dt_PP_min_value]\n",
    "\n",
    "print(f\"{res.original_title.values[0]} ({res.imdb_id.values[0]})\")"
   ]
  },
  {
   "cell_type": "markdown",
   "metadata": {
    "colab_type": "text",
    "id": "vS8Ur6ddVp_u"
   },
   "source": [
    "# 19. Какой год стал самым успешным по суммарным кассовым сборам?"
   ]
  },
  {
   "cell_type": "code",
   "execution_count": 130,
   "metadata": {
    "colab": {},
    "colab_type": "code",
    "id": "Dnbt4GdIVp_v"
   },
   "outputs": [],
   "source": [
    "answers['19'] = '5. 2015'  # +"
   ]
  },
  {
   "cell_type": "code",
   "execution_count": 99,
   "metadata": {},
   "outputs": [
    {
     "name": "stdout",
     "output_type": "stream",
     "text": [
      "2015\n"
     ]
    }
   ],
   "source": [
    "revenues_by_years = data.groupby(['release_year'])['revenue'].sum()\n",
    "\n",
    "res = revenues_by_years[revenues_by_years == revenues_by_years.max()]\n",
    "print(res.index[0])"
   ]
  },
  {
   "cell_type": "markdown",
   "metadata": {
    "colab_type": "text",
    "id": "JAzJh4QAVp_z"
   },
   "source": [
    "# 20. Какой самый прибыльный год для студии Warner Bros?"
   ]
  },
  {
   "cell_type": "code",
   "execution_count": 131,
   "metadata": {
    "colab": {},
    "colab_type": "code",
    "id": "wgVu02DEVp_0"
   },
   "outputs": [],
   "source": [
    "answers['20'] = '1. 2014'  # + см. ВАРИАНТ 2"
   ]
  },
  {
   "cell_type": "markdown",
   "metadata": {},
   "source": [
    "**ПРЕДВАРИТЕЛЬНОЕ ЗАМЕЧАНИЕ** \n",
    "Приступив к решению заданий, достаточно быстро обнаружила,  что среди студий (столбец 'production_companies') встречается довольно много  похожих наименований (примеры приведу отдельно ниже). При этом часть из этих похожих наименований, будучи формально разными, скорее всего, обозначают одну и ту же компанию, а другая - непонятно.   \n",
    "В связи с обнаруженным, задала вопрос ментору Е.Поповой, как следует поступать в решении со вскрывшимся обстоятельством.    \n",
    "Ответом было, что следует считать, что \"это все разные компании\").       \n",
    "При решениях я так и поступала. Система проверки при этом показала, что все полученные мною ответы - совпдадают с правильными.     \n",
    "\n",
    "Однако, при оформлении и перепроверке своих решений, я поняла, что в ряде задач использование метода  ```.str.contains(s)``` некорректно, т.к он не отлавливает разницу между некоторыми студиями, которые, как следовало из ответа Е.Поповой, должны рассматриваться как разные. К таковым, например, относятся студии  \"Lucasfilm\" и \"Lucasfilm Ltd.\").    \n",
    "Пришлось переделать решения в целом ряде заданий этого блока, путем ввода дополнительного столбца, где данные, представленные в строку через разделитель '|' представлены уже в виде списка.    \n",
    "На часть ответов это изменение не повлияло.      \n",
    "В данном же задании ответ в результате переделки изменился. \n",
    "В ВАРИАНТЕ 1 - приведено правильное, как я считаю, решение. (Точнее, оно правильное, если считать, что вопрос в задании касается студии \"Warner Bros.\" (ибо студии с написанием без точки, \"Warner Bros\", как в условии, в исходных данных **вообще нет**!   \n",
    "В ВАРИАНТЕ 2 - неправильное (с использованием  ```.str.contains('Warner Bros')```), но дающее тот ответ, на который Система проверки отреагировала как на правильный. \n",
    "\n",
    "И напоследок. Вот еще  некоторые другие примеры \"проблемных студий\":\n",
    "- 'Warner Bros.'  и  'Warner Bros. Animation', 'Warner Bros. Pictures'\n",
    "- а) '20th Century Fox', б) '20th Century Fox Home Entertainment', в) 'Twentieth Century Fox' г) 'Twentieth Century Fox Film Corporation';\n",
    "- 'BBC' и 'BBC Films',\n",
    "- 'Bedford Falls Company, The', и  'Bedford Falls Productions',\n",
    "- 'BenderSpink',  'Benderspink',\n",
    "- 'Big Beach Films', 'Big Beach Productions',\n",
    "- 'Birnbaum / Barber Productions',  'Birnbaum/Barber'\n",
    "- 'Blind Wink', 'Blind Wink Productions' "
   ]
  },
  {
   "cell_type": "markdown",
   "metadata": {},
   "source": [
    "ВАРИАНТ 1"
   ]
  },
  {
   "cell_type": "code",
   "execution_count": 100,
   "metadata": {},
   "outputs": [
    {
     "name": "stdout",
     "output_type": "stream",
     "text": [
      "2007\n"
     ]
    }
   ],
   "source": [
    "# As it was asked by mentor E.Popova to me, all production companies with different way of writing \n",
    "# should be considered as different ones. \n",
    "# There is no at all production company in the data, whose name is written as \"Warner Bros\" , \n",
    "# but there is one, written as \"Warner Bros.\"  So, it was used the last one in the code below.    \n",
    "\n",
    "# Below is used the dat18, that is the copy of the data, \n",
    "# where the column with has also been added (see Task 18)\n",
    "\n",
    "WB = \"Warner Bros.\"\n",
    "df = dat18[dat18['production_companies'].\n",
    "           str.contains('Warner Bros.')][['ProdCompanies_as_lists', 'profit', 'release_year']]\n",
    "WB_dat = df[df.ProdCompanies_as_lists.apply(lambda x: WB in x )]\n",
    "\n",
    "ProfByYears = WB_dat.groupby(['release_year']).profit.sum()\n",
    "\n",
    "max_profit_year_for_WB = ProfByYears[ProfByYears == ProfByYears.max()].index[0]\n",
    "print(max_profit_year_for_WB)  "
   ]
  },
  {
   "cell_type": "markdown",
   "metadata": {},
   "source": [
    "ВАРИАНТ 2   \n",
    "Это решение выдает ответ, совпадающий с ответом в системе проверки SkillFaxctory, однако в нем не учитывается то обстоятельство, что для метода  ```.str.contains('Warner Bros')```   в выборку вместе с 'Warner Bros.' , попадают и другие компании, такие как   'Warner Bros. Animation', и 'Warner Bros. Pictures' . "
   ]
  },
  {
   "cell_type": "code",
   "execution_count": 101,
   "metadata": {},
   "outputs": [
    {
     "name": "stdout",
     "output_type": "stream",
     "text": [
      "2014\n"
     ]
    }
   ],
   "source": [
    "Cmp = 'Warner Bros'\n",
    "data_Cmp = data[data.production_companies.str.contains(Cmp)]\n",
    "grouped_by_years_profit_for_Cmp = data_Cmp.groupby(['release_year']).profit.sum()\n",
    "\n",
    "sr = grouped_by_years_profit_for_Cmp\n",
    "max_profit_year_for_Cmp = sr[sr == sr.max()].index[0]\n",
    "print(max_profit_year_for_Cmp)"
   ]
  },
  {
   "cell_type": "markdown",
   "metadata": {
    "colab_type": "text",
    "id": "8Im1S2HRVp_4"
   },
   "source": [
    "# 21. В каком месяце за все годы суммарно вышло больше всего фильмов?"
   ]
  },
  {
   "cell_type": "code",
   "execution_count": 132,
   "metadata": {
    "colab": {},
    "colab_type": "code",
    "id": "lev6TH7gVp_4"
   },
   "outputs": [],
   "source": [
    "answers['21'] = '4. Сентябрь'  # +"
   ]
  },
  {
   "cell_type": "code",
   "execution_count": 102,
   "metadata": {},
   "outputs": [
    {
     "data": {
      "text/plain": [
       "'Сентябрь'"
      ]
     },
     "metadata": {},
     "output_type": "display_data"
    }
   ],
   "source": [
    "data21 = data.copy()\n",
    "\n",
    "# Inserting new column 'release_month' in the copy of the data,  \n",
    "# which contains the names of correspondent months in Russian,\n",
    "# extracted and converted from the \"release_date\" values\n",
    "data21['release_month'] = release_month\n",
    "\n",
    "movies_by_months = data21.groupby(['release_month']).imdb_id.count()\n",
    "\n",
    "res = movies_by_months[movies_by_months == movies_by_months.max()].index[0]\n",
    "display(res)"
   ]
  },
  {
   "cell_type": "markdown",
   "metadata": {
    "colab_type": "text",
    "id": "uAJsZ_NeVp_7"
   },
   "source": [
    "# 22. Сколько суммарно вышло фильмов летом? (за июнь, июль, август)"
   ]
  },
  {
   "cell_type": "code",
   "execution_count": 133,
   "metadata": {
    "colab": {},
    "colab_type": "code",
    "id": "Aa-hEREoVp_8"
   },
   "outputs": [],
   "source": [
    "answers['22'] = '2. 450'   # +"
   ]
  },
  {
   "cell_type": "code",
   "execution_count": 75,
   "metadata": {},
   "outputs": [
    {
     "data": {
      "text/plain": [
       "450"
      ]
     },
     "execution_count": 75,
     "metadata": {},
     "output_type": "execute_result"
    }
   ],
   "source": [
    "# In the code below is used tha DataFrame 'data21', which is \n",
    "# the copy of the data, with added a column of \n",
    "# the month release data 'release_month'\n",
    "data21.query('release_month in (\"Июнь\", \"Июль\",\"Август\")').imdb_id.count()"
   ]
  },
  {
   "cell_type": "markdown",
   "metadata": {
    "colab_type": "text",
    "id": "G94ppOY1VqAA"
   },
   "source": [
    "# 23. Для какого режиссера зима – самое продуктивное время года? "
   ]
  },
  {
   "cell_type": "code",
   "execution_count": 134,
   "metadata": {
    "colab": {},
    "colab_type": "code",
    "id": "RhNTsamuVqAB"
   },
   "outputs": [],
   "source": [
    "answers['23'] = '5. Peter Jackson' # +"
   ]
  },
  {
   "cell_type": "code",
   "execution_count": 103,
   "metadata": {},
   "outputs": [
    {
     "data": {
      "text/plain": [
       "'Peter Jackson'"
      ]
     },
     "metadata": {},
     "output_type": "display_data"
    }
   ],
   "source": [
    "# In the code below it is used tha DataFrame 'data21', which is  \n",
    "# the copy of data, with added a column of\n",
    "# the month release data 'release_month'\n",
    "\n",
    "# Adding to data21 a column with movie directors' names perpesented as list\n",
    "data21['directors_as_lists'] = directors_as_lists\n",
    "\n",
    "data_winter = data21.query('release_month in (\"Декабрь\", \"Январь\", \"Февраль\")')[\n",
    "    ['imdb_id', 'directors_as_lists']]\n",
    "\n",
    "winter_activity = {}\n",
    "\n",
    "for name in list(directors_dct.keys()):\n",
    "    winter_activity[name] = data_winter['imdb_id'][\n",
    "        data_winter.directors_as_lists.\n",
    "        apply(lambda x: True if name in x else False )].count()\n",
    "    \n",
    "dct = winter_activity\n",
    "director_with_maxMovies_inWinter = max(dct, key=dct.get)\n",
    "display(director_with_maxMovies_inWinter)"
   ]
  },
  {
   "cell_type": "markdown",
   "metadata": {
    "colab_type": "text",
    "id": "RBo0JVjVVqAF"
   },
   "source": [
    "# 24. Какая студия дает самые длинные названия своим фильмам по количеству символов?"
   ]
  },
  {
   "cell_type": "code",
   "execution_count": 135,
   "metadata": {
    "colab": {},
    "colab_type": "code",
    "id": "QRGS8L0iVqAG"
   },
   "outputs": [],
   "source": [
    "answers['24'] = '5. Four By Two Productions'  # +"
   ]
  },
  {
   "cell_type": "code",
   "execution_count": 104,
   "metadata": {},
   "outputs": [
    {
     "data": {
      "text/plain": [
       "'Four By Two Productions'"
      ]
     },
     "metadata": {},
     "output_type": "display_data"
    }
   ],
   "source": [
    "# In the code below by   \n",
    "# \"finding the max lenth for movies titles of every production company\" \n",
    "# is meant the finding of max \n",
    "# among the average lenths of movies' titles of every company\"\n",
    "\n",
    "dat24 = data.copy()\n",
    "dat24['title_lenth'] = title_lenth\n",
    "dat24['ProdCompanies_as_lists'] = ProdCompanies_as_lists\n",
    "\n",
    "mean_lenth_dict = {}\n",
    "for name in list(ProdCompanies_dct.keys()):\n",
    "     mean_lenth_dict[name] = dat24['title_lenth'][\n",
    "         dat24.ProdCompanies_as_lists.\n",
    "         apply(lambda x: True if name in x else False)].mean()\n",
    "\n",
    "dct = mean_lenth_dict\n",
    "Company_with_max_meanTitles = max(dct, key=dct.get)\n",
    "display(Company_with_max_meanTitles) "
   ]
  },
  {
   "cell_type": "markdown",
   "metadata": {
    "colab_type": "text",
    "id": "9G0hbvR7VqAK"
   },
   "source": [
    "# 25. Описание фильмов какой студии в среднем самые длинные по количеству слов?"
   ]
  },
  {
   "cell_type": "code",
   "execution_count": 136,
   "metadata": {
    "colab": {},
    "colab_type": "code",
    "id": "Ge2GsLNxVqAK"
   },
   "outputs": [],
   "source": [
    "answers['25'] = '3. Midnight Picture Show'  # +"
   ]
  },
  {
   "cell_type": "code",
   "execution_count": 106,
   "metadata": {},
   "outputs": [
    {
     "data": {
      "text/plain": [
       "'Midnight Picture Show'"
      ]
     },
     "metadata": {},
     "output_type": "display_data"
    }
   ],
   "source": [
    "# In the code below it is considered that \n",
    "# a word in an overview is any sequence of characters \n",
    "# bounded by the space symbols form both sides\n",
    "\n",
    "dat25 = data.copy()\n",
    "dat25['overview_words'] = dat25.overview.apply(num_words)\n",
    "dat25[\"ProdCompanies_as_lists\"] = ProdCompanies_as_lists\n",
    "\n",
    "dict_mean_words = {}\n",
    "for name in list(ProdCompanies_dct.keys()):\n",
    "    dict_mean_words[name] = dat25[\"overview_words\"][\n",
    "        dat25[\"ProdCompanies_as_lists\"].apply(lambda x: True if name in x else False)].mean()\n",
    "\n",
    "Company_max_meanNumWords_inOverview = max(dict_mean_words.items(), key=lambda x: x[1])[0]\n",
    "display(Company_max_meanNumWords_inOverview)"
   ]
  },
  {
   "cell_type": "markdown",
   "metadata": {
    "colab_type": "text",
    "id": "FJ1AFt90VqAP"
   },
   "source": [
    "# 26. Какие фильмы входят в 1 процент лучших по рейтингу? \n",
    "по vote_average"
   ]
  },
  {
   "cell_type": "code",
   "execution_count": 137,
   "metadata": {
    "colab": {},
    "colab_type": "code",
    "id": "8qmJVq4CVqAQ"
   },
   "outputs": [],
   "source": [
    "answers['26'] = '1. Inside Out, The Dark Knight, 12 Years a Slave'   # +"
   ]
  },
  {
   "cell_type": "code",
   "execution_count": 108,
   "metadata": {},
   "outputs": [
    {
     "name": "stdout",
     "output_type": "stream",
     "text": [
      "1. ['Inside Out', 'The Dark Knight', '12 Years a Slave']\n"
     ]
    }
   ],
   "source": [
    "# the question answers suggested as variants\n",
    "qa1 = [1,'Inside Out', 'The Dark Knight', '12 Years a Slave']\n",
    "qa2 = [2, 'BloodRayne', 'The Adventures of Rocky & Bullwinkle']\n",
    "qa3 = [3,'Batman Begins', 'The Lord of the Rings: The Return of the King',' Upside Down']\n",
    "qa4 = [4,'300', 'Lucky Number Slevin','Kill Bill: Vol. 1']\n",
    "qa5 = [5,'Upside Down', 'Inside Out', 'Iron Man']\n",
    "\n",
    "QA = [qa1, qa2, qa3, qa4, qa5]\n",
    "\n",
    "perc_99 = np.percentile(data.vote_average, 99)  # Q1\n",
    "perc_top1 = data[data.vote_average > perc_99][['imdb_id', 'original_title', 'vote_average']]\n",
    "\n",
    "for item in QA:\n",
    "     if (set(item[1:]).issubset(perc_top1.original_title.values) is True):\n",
    "            print(f\"{item[0]}. {item[1:]}\")"
   ]
  },
  {
   "cell_type": "markdown",
   "metadata": {
    "colab_type": "text",
    "id": "MdXsUXbCVqAV"
   },
   "source": [
    "# 27. Какие актеры чаще всего снимаются в одном фильме вместе?\n"
   ]
  },
  {
   "cell_type": "code",
   "execution_count": 139,
   "metadata": {},
   "outputs": [],
   "source": [
    "answers['27'] = '27. Daniel Radcliffe & Rupert Grint'   # +"
   ]
  },
  {
   "cell_type": "code",
   "execution_count": 109,
   "metadata": {},
   "outputs": [
    {
     "name": "stdout",
     "output_type": "stream",
     "text": [
      "('Daniel Radcliffe', 'Emma Watson')\n",
      "('Daniel Radcliffe', 'Rupert Grint')\n",
      "('Emma Watson', 'Rupert Grint')\n"
     ]
    }
   ],
   "source": [
    "# Sort for every movie its list of actor's names. \n",
    "# (It is necessary for getting ordered pairs \n",
    "# of different actor's names in the next step)\n",
    "for lst in actors_as_list:\n",
    "    lst.sort()\n",
    "\n",
    "# Gettins ordered pairs of different actor's names from cast of every movie \n",
    "pairs_lists = []\n",
    "for i in range(len(actors_as_list)):\n",
    "    pairs_lists.append(list(combinations(actors_as_list[i], 2)))\n",
    "\n",
    "# Getting a dictionary, where keys are pairs of different actor's names,\n",
    "# and values are frequency of appearance the correspondent pair in movies' cast  \n",
    "pairs_dict = get_dict(pairs_lists)\n",
    "\n",
    "# Getting actors' pairs with max frequency of appearing together at moveis'casts \n",
    "for key in pairs_dict.keys():\n",
    "    if  pairs_dict[key] == max(list(pairs_dict.values())):\n",
    "        print(key)"
   ]
  },
  {
   "cell_type": "markdown",
   "metadata": {
    "colab_type": "text",
    "id": "U0nONFnGVqAX"
   },
   "source": [
    "# Submission"
   ]
  },
  {
   "cell_type": "code",
   "execution_count": 140,
   "metadata": {
    "colab": {},
    "colab_type": "code",
    "id": "IfcaRO9-VqAX",
    "outputId": "0f132912-32bb-4196-c98c-abfbc4ad5a5f"
   },
   "outputs": [
    {
     "data": {
      "text/plain": [
       "{'1': '5. Pirates of the Caribbean: On Stranger Tides (tt1298650)',\n",
       " '2': '2. Gods and Generals (tt0279111)',\n",
       " '3': '3. Winnie the Pooh (tt1449283)',\n",
       " '4': '2. 110',\n",
       " '5': '1. 107',\n",
       " '6': '5. Avatar (tt0499549)',\n",
       " '7': '5. The Lone Ranger (tt1210819)',\n",
       " '8': '1. 1478',\n",
       " '9': '4. The Dark Knight (tt0468569)',\n",
       " '10': '5. The Lone Ranger (tt1210819)',\n",
       " '11': '3. Drama',\n",
       " '12': '1. Drama',\n",
       " '13': '5. Peter Jackson',\n",
       " '14': '3. Robert Rodriguez',\n",
       " '15': '3. Chris Hemsworth',\n",
       " '16': '3. Matt Damon',\n",
       " '17': '2. Action',\n",
       " '18': '1. K-19: The Widowmaker (tt0267626)',\n",
       " '19': '5. 2015',\n",
       " '20': '1. 2014',\n",
       " '21': '4. Сентябрь',\n",
       " '22': '2. 450',\n",
       " '23': '5. Peter Jackson',\n",
       " '24': '5. Four By Two Productions',\n",
       " '25': '3. Midnight Picture Show',\n",
       " '26': '1. Inside Out, The Dark Knight, 12 Years a Slave',\n",
       " '27': '27. Daniel Radcliffe & Rupert Grint'}"
      ]
     },
     "execution_count": 140,
     "metadata": {},
     "output_type": "execute_result"
    }
   ],
   "source": [
    "# в конце можно посмотреть свои ответы к каждому вопросу\n",
    "answers"
   ]
  },
  {
   "cell_type": "code",
   "execution_count": 141,
   "metadata": {
    "colab": {},
    "colab_type": "code",
    "id": "SiRmHPl8VqAd"
   },
   "outputs": [
    {
     "data": {
      "text/plain": [
       "27"
      ]
     },
     "execution_count": 141,
     "metadata": {},
     "output_type": "execute_result"
    }
   ],
   "source": [
    "# и убедиться что ни чего не пропустил)\n",
    "len(answers)"
   ]
  }
 ],
 "metadata": {
  "colab": {
   "name": "Copy of [SF-DST] Movies IMBD v4.1 TEMPLATE.ipynb",
   "provenance": []
  },
  "kernelspec": {
   "display_name": "Python 3",
   "language": "python",
   "name": "python3"
  },
  "language_info": {
   "codemirror_mode": {
    "name": "ipython",
    "version": 3
   },
   "file_extension": ".py",
   "mimetype": "text/x-python",
   "name": "python",
   "nbconvert_exporter": "python",
   "pygments_lexer": "ipython3",
   "version": "3.7.4"
  }
 },
 "nbformat": 4,
 "nbformat_minor": 1
}
